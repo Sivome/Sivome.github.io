{
 "cells": [
  {
   "cell_type": "code",
   "execution_count": 7,
   "metadata": {},
   "outputs": [
    {
     "name": "stderr",
     "output_type": "stream",
     "text": [
      "c:\\users\\viswa\\appdata\\local\\programs\\python\\python37\\lib\\importlib\\_bootstrap.py:219: RuntimeWarning: numpy.ufunc size changed, may indicate binary incompatibility. Expected 192 from C header, got 216 from PyObject\n",
      "  return f(*args, **kwds)\n"
     ]
    }
   ],
   "source": [
    "# Let's use the data generated from earlier post on flux balance analysis with COBRApy\n",
    "# The output from flux balance analysis is a highly sparse matrix, with rows corresponding to different growth conditions (given by user), and columns corresponding to the fluxes.\n",
    "# This project is re-analyses of some of the data already published in [Pubmed ID]. The earlier work was done when I was at CCBB and Wilke lab.\n",
    "# import flux balance related modules\n",
    "from __future__ import print_function\n",
    "import cobra\n",
    "# import deep learning and other modules\n",
    "import numpy as np\n",
    "import pandas as pd\n",
    "from os.path import join\n"
   ]
  },
  {
   "cell_type": "code",
   "execution_count": 8,
   "metadata": {},
   "outputs": [],
   "source": [
    "# fix random seed for reproducibility\n",
    "seed = 7\n",
    "np.random.seed(7)"
   ]
  },
  {
   "cell_type": "code",
   "execution_count": 9,
   "metadata": {},
   "outputs": [],
   "source": [
    "# Flux dataset from predicting bacterial growth conditions study -- for current purposes, THIS IS MOSTLY CONSIDERED RANDOM SYNTHETIC DATA\n",
    "dataset1 = pd.read_csv(\"../Data/syntheticFluxData.csv\", delimiter=',', header=None)"
   ]
  },
  {
   "cell_type": "code",
   "execution_count": 10,
   "metadata": {},
   "outputs": [
    {
     "data": {
      "text/html": [
       "<div>\n",
       "<style scoped>\n",
       "    .dataframe tbody tr th:only-of-type {\n",
       "        vertical-align: middle;\n",
       "    }\n",
       "\n",
       "    .dataframe tbody tr th {\n",
       "        vertical-align: top;\n",
       "    }\n",
       "\n",
       "    .dataframe thead th {\n",
       "        text-align: right;\n",
       "    }\n",
       "</style>\n",
       "<table border=\"1\" class=\"dataframe\">\n",
       "  <thead>\n",
       "    <tr style=\"text-align: right;\">\n",
       "      <th></th>\n",
       "      <th>0</th>\n",
       "      <th>1</th>\n",
       "      <th>2</th>\n",
       "      <th>3</th>\n",
       "      <th>4</th>\n",
       "      <th>5</th>\n",
       "      <th>6</th>\n",
       "      <th>7</th>\n",
       "      <th>8</th>\n",
       "      <th>9</th>\n",
       "      <th>...</th>\n",
       "      <th>2375</th>\n",
       "      <th>2376</th>\n",
       "      <th>2377</th>\n",
       "      <th>2378</th>\n",
       "      <th>2379</th>\n",
       "      <th>2380</th>\n",
       "      <th>2381</th>\n",
       "      <th>2382</th>\n",
       "      <th>2383</th>\n",
       "      <th>2384</th>\n",
       "    </tr>\n",
       "  </thead>\n",
       "  <tbody>\n",
       "    <tr>\n",
       "      <th>0</th>\n",
       "      <td>0.000000e+00</td>\n",
       "      <td>0.000000e+00</td>\n",
       "      <td>0.000000e+00</td>\n",
       "      <td>0.000000e+00</td>\n",
       "      <td>0.000000e+00</td>\n",
       "      <td>0.0</td>\n",
       "      <td>0.0</td>\n",
       "      <td>0.0</td>\n",
       "      <td>0.0</td>\n",
       "      <td>0.0</td>\n",
       "      <td>...</td>\n",
       "      <td>0.0</td>\n",
       "      <td>-0.0</td>\n",
       "      <td>0</td>\n",
       "      <td>0</td>\n",
       "      <td>0.004649</td>\n",
       "      <td>0</td>\n",
       "      <td>0.004649</td>\n",
       "      <td>1</td>\n",
       "      <td>1</td>\n",
       "      <td>1</td>\n",
       "    </tr>\n",
       "    <tr>\n",
       "      <th>1</th>\n",
       "      <td>0.000000e+00</td>\n",
       "      <td>4.692800e-34</td>\n",
       "      <td>1.025800e-27</td>\n",
       "      <td>6.151300e-29</td>\n",
       "      <td>0.000000e+00</td>\n",
       "      <td>0.0</td>\n",
       "      <td>0.0</td>\n",
       "      <td>0.0</td>\n",
       "      <td>0.0</td>\n",
       "      <td>0.0</td>\n",
       "      <td>...</td>\n",
       "      <td>0.0</td>\n",
       "      <td>-0.0</td>\n",
       "      <td>0</td>\n",
       "      <td>0</td>\n",
       "      <td>0.004571</td>\n",
       "      <td>0</td>\n",
       "      <td>0.004571</td>\n",
       "      <td>1</td>\n",
       "      <td>2</td>\n",
       "      <td>2</td>\n",
       "    </tr>\n",
       "    <tr>\n",
       "      <th>2</th>\n",
       "      <td>1.348900e-29</td>\n",
       "      <td>0.000000e+00</td>\n",
       "      <td>0.000000e+00</td>\n",
       "      <td>7.639300e-28</td>\n",
       "      <td>1.029200e-27</td>\n",
       "      <td>0.0</td>\n",
       "      <td>0.0</td>\n",
       "      <td>0.0</td>\n",
       "      <td>0.0</td>\n",
       "      <td>0.0</td>\n",
       "      <td>...</td>\n",
       "      <td>0.0</td>\n",
       "      <td>-0.0</td>\n",
       "      <td>0</td>\n",
       "      <td>0</td>\n",
       "      <td>0.006978</td>\n",
       "      <td>0</td>\n",
       "      <td>0.006978</td>\n",
       "      <td>1</td>\n",
       "      <td>3</td>\n",
       "      <td>3</td>\n",
       "    </tr>\n",
       "    <tr>\n",
       "      <th>3</th>\n",
       "      <td>0.000000e+00</td>\n",
       "      <td>0.000000e+00</td>\n",
       "      <td>0.000000e+00</td>\n",
       "      <td>0.000000e+00</td>\n",
       "      <td>0.000000e+00</td>\n",
       "      <td>0.0</td>\n",
       "      <td>0.0</td>\n",
       "      <td>0.0</td>\n",
       "      <td>0.0</td>\n",
       "      <td>0.0</td>\n",
       "      <td>...</td>\n",
       "      <td>0.0</td>\n",
       "      <td>-0.0</td>\n",
       "      <td>0</td>\n",
       "      <td>0</td>\n",
       "      <td>0.004584</td>\n",
       "      <td>0</td>\n",
       "      <td>0.004584</td>\n",
       "      <td>1</td>\n",
       "      <td>4</td>\n",
       "      <td>4</td>\n",
       "    </tr>\n",
       "    <tr>\n",
       "      <th>4</th>\n",
       "      <td>0.000000e+00</td>\n",
       "      <td>0.000000e+00</td>\n",
       "      <td>0.000000e+00</td>\n",
       "      <td>2.695900e-29</td>\n",
       "      <td>0.000000e+00</td>\n",
       "      <td>0.0</td>\n",
       "      <td>0.0</td>\n",
       "      <td>0.0</td>\n",
       "      <td>0.0</td>\n",
       "      <td>0.0</td>\n",
       "      <td>...</td>\n",
       "      <td>0.0</td>\n",
       "      <td>-0.0</td>\n",
       "      <td>0</td>\n",
       "      <td>0</td>\n",
       "      <td>0.004760</td>\n",
       "      <td>0</td>\n",
       "      <td>0.004760</td>\n",
       "      <td>1</td>\n",
       "      <td>5</td>\n",
       "      <td>5</td>\n",
       "    </tr>\n",
       "  </tbody>\n",
       "</table>\n",
       "<p>5 rows × 2385 columns</p>\n",
       "</div>"
      ],
      "text/plain": [
       "           0             1             2             3             4     5     \\\n",
       "0  0.000000e+00  0.000000e+00  0.000000e+00  0.000000e+00  0.000000e+00   0.0   \n",
       "1  0.000000e+00  4.692800e-34  1.025800e-27  6.151300e-29  0.000000e+00   0.0   \n",
       "2  1.348900e-29  0.000000e+00  0.000000e+00  7.639300e-28  1.029200e-27   0.0   \n",
       "3  0.000000e+00  0.000000e+00  0.000000e+00  0.000000e+00  0.000000e+00   0.0   \n",
       "4  0.000000e+00  0.000000e+00  0.000000e+00  2.695900e-29  0.000000e+00   0.0   \n",
       "\n",
       "   6     7     8     9     ...  2375  2376  2377  2378      2379  2380  \\\n",
       "0   0.0   0.0   0.0   0.0  ...   0.0  -0.0     0     0  0.004649     0   \n",
       "1   0.0   0.0   0.0   0.0  ...   0.0  -0.0     0     0  0.004571     0   \n",
       "2   0.0   0.0   0.0   0.0  ...   0.0  -0.0     0     0  0.006978     0   \n",
       "3   0.0   0.0   0.0   0.0  ...   0.0  -0.0     0     0  0.004584     0   \n",
       "4   0.0   0.0   0.0   0.0  ...   0.0  -0.0     0     0  0.004760     0   \n",
       "\n",
       "       2381  2382  2383  2384  \n",
       "0  0.004649     1     1     1  \n",
       "1  0.004571     1     2     2  \n",
       "2  0.006978     1     3     3  \n",
       "3  0.004584     1     4     4  \n",
       "4  0.004760     1     5     5  \n",
       "\n",
       "[5 rows x 2385 columns]"
      ]
     },
     "execution_count": 10,
     "metadata": {},
     "output_type": "execute_result"
    }
   ],
   "source": [
    "dataset1.head()"
   ]
  },
  {
   "cell_type": "code",
   "execution_count": 11,
   "metadata": {},
   "outputs": [
    {
     "name": "stdout",
     "output_type": "stream",
     "text": [
      "Background information of the data and what we are trying to accomplish here - after importing modules and loading data :-)\n"
     ]
    }
   ],
   "source": [
    "# First 2381 columns are the in-silico fluxes generated from the flux balance analyses (FBA) for the input growth conditions\n",
    "# Information on the growth conditions is in columns 2382 and 2383. Column 2384 is just the pair-wise combination of 2382 and 2383.\n",
    "# Original work has lot of details, and this is just a tutorial on how the processed FBA data looks and using deep learning models to analyze.\n",
    "# Focus is on deep learning models, rather than the source or content of the data.\n",
    "print(\"Background information of the data and what we are trying to accomplish here - after importing modules and loading data :-)\")\n"
   ]
  },
  {
   "cell_type": "code",
   "execution_count": 12,
   "metadata": {},
   "outputs": [],
   "source": [
    "# Assuming iAF1260 model used in this repo has exchange/transport reactions that match to the synthetic data.\n",
    "sbml_path = join(\"../Data\",\"iAF1260.xml.gz\")\n",
    "iAF1260_ecoli_model = cobra.io.read_sbml_model(sbml_path)\n",
    "iAF1260_reaction_IDs = [x.id for x in iAF1260_ecoli_model.reactions]\n",
    "# There might be a better way to do this, but this explicitly conveys information\n",
    "list_tpp_tex = []\n",
    "for x in iAF1260_reaction_IDs:\n",
    "    if(x.endswith('tpp')):\n",
    "        list_tpp_tex.append(x)\n",
    "    if(x.endswith('tex')):\n",
    "        list_tpp_tex.append(x)\n",
    "# columns to remove from above dataset\n",
    "IDs_of_cols_to_remove = [iAF1260_reaction_IDs.index(i) for i in list_tpp_tex]\n",
    "# append output columns as well that are to be removed from Input\n",
    "IDs_of_cols_to_remove.extend(range(2382,2385)) # Note range covers 2382 to 2384\n"
   ]
  },
  {
   "cell_type": "code",
   "execution_count": 13,
   "metadata": {},
   "outputs": [],
   "source": [
    "# retain columns that are NOT IDs_of_cols_to_remove, fit in regression methods automatically scales these\n",
    "X = dataset1.iloc[:,dataset1.columns.difference(IDs_of_cols_to_remove)]\n",
    "# Use carbon source as y (i.e., col 2382) --- Nitrogen source is 2383, while pair-wise C/N is 2384\n",
    "fba_y = dataset1.iloc[:,2382]"
   ]
  },
  {
   "cell_type": "code",
   "execution_count": 14,
   "metadata": {},
   "outputs": [
    {
     "name": "stdout",
     "output_type": "stream",
     "text": [
      "Background information of the data\n"
     ]
    }
   ],
   "source": [
    "# Two ways to approach this multi-class problem using scikit-learn Logistic regrssion models are 1. ovr, 2. multinomial\n",
    "# The goal is to predict the growth condition given the metabolic fluxes, so I think may be \"ovr\" i.e., one vs rest model is better.\n",
    "# Let's try that for now :-) - If we have to go back and re-do with multinomial and compare the results, we can always do that.\n",
    "print(\"Background information of the data\")"
   ]
  },
  {
   "cell_type": "code",
   "execution_count": 16,
   "metadata": {},
   "outputs": [
    {
     "data": {
      "text/html": [
       "<div>\n",
       "<style scoped>\n",
       "    .dataframe tbody tr th:only-of-type {\n",
       "        vertical-align: middle;\n",
       "    }\n",
       "\n",
       "    .dataframe tbody tr th {\n",
       "        vertical-align: top;\n",
       "    }\n",
       "\n",
       "    .dataframe thead th {\n",
       "        text-align: right;\n",
       "    }\n",
       "</style>\n",
       "<table border=\"1\" class=\"dataframe\">\n",
       "  <thead>\n",
       "    <tr style=\"text-align: right;\">\n",
       "      <th></th>\n",
       "      <th>0</th>\n",
       "      <th>1</th>\n",
       "      <th>2</th>\n",
       "      <th>3</th>\n",
       "      <th>4</th>\n",
       "      <th>5</th>\n",
       "      <th>6</th>\n",
       "      <th>11</th>\n",
       "      <th>12</th>\n",
       "      <th>17</th>\n",
       "      <th>...</th>\n",
       "      <th>2368</th>\n",
       "      <th>2369</th>\n",
       "      <th>2370</th>\n",
       "      <th>2371</th>\n",
       "      <th>2372</th>\n",
       "      <th>2374</th>\n",
       "      <th>2375</th>\n",
       "      <th>2377</th>\n",
       "      <th>2378</th>\n",
       "      <th>2380</th>\n",
       "    </tr>\n",
       "  </thead>\n",
       "  <tbody>\n",
       "    <tr>\n",
       "      <th>0</th>\n",
       "      <td>0.000000e+00</td>\n",
       "      <td>0.000000e+00</td>\n",
       "      <td>0.000000e+00</td>\n",
       "      <td>0.000000e+00</td>\n",
       "      <td>0.000000e+00</td>\n",
       "      <td>0.0</td>\n",
       "      <td>0.0</td>\n",
       "      <td>0.0</td>\n",
       "      <td>0.2</td>\n",
       "      <td>0.0</td>\n",
       "      <td>...</td>\n",
       "      <td>-0.0</td>\n",
       "      <td>0.6</td>\n",
       "      <td>-0.0</td>\n",
       "      <td>-0.0</td>\n",
       "      <td>0.0</td>\n",
       "      <td>0</td>\n",
       "      <td>0.0</td>\n",
       "      <td>0</td>\n",
       "      <td>0</td>\n",
       "      <td>0</td>\n",
       "    </tr>\n",
       "    <tr>\n",
       "      <th>1</th>\n",
       "      <td>0.000000e+00</td>\n",
       "      <td>4.692800e-34</td>\n",
       "      <td>1.025800e-27</td>\n",
       "      <td>6.151300e-29</td>\n",
       "      <td>0.000000e+00</td>\n",
       "      <td>0.0</td>\n",
       "      <td>0.0</td>\n",
       "      <td>0.0</td>\n",
       "      <td>0.0</td>\n",
       "      <td>0.0</td>\n",
       "      <td>...</td>\n",
       "      <td>-0.0</td>\n",
       "      <td>0.8</td>\n",
       "      <td>-0.0</td>\n",
       "      <td>0.2</td>\n",
       "      <td>0.2</td>\n",
       "      <td>0</td>\n",
       "      <td>0.0</td>\n",
       "      <td>0</td>\n",
       "      <td>0</td>\n",
       "      <td>0</td>\n",
       "    </tr>\n",
       "    <tr>\n",
       "      <th>2</th>\n",
       "      <td>1.348900e-29</td>\n",
       "      <td>0.000000e+00</td>\n",
       "      <td>0.000000e+00</td>\n",
       "      <td>7.639300e-28</td>\n",
       "      <td>1.029200e-27</td>\n",
       "      <td>0.0</td>\n",
       "      <td>0.0</td>\n",
       "      <td>0.0</td>\n",
       "      <td>0.2</td>\n",
       "      <td>0.0</td>\n",
       "      <td>...</td>\n",
       "      <td>-0.0</td>\n",
       "      <td>0.6</td>\n",
       "      <td>-0.0</td>\n",
       "      <td>-0.0</td>\n",
       "      <td>0.0</td>\n",
       "      <td>0</td>\n",
       "      <td>0.0</td>\n",
       "      <td>0</td>\n",
       "      <td>0</td>\n",
       "      <td>0</td>\n",
       "    </tr>\n",
       "    <tr>\n",
       "      <th>3</th>\n",
       "      <td>0.000000e+00</td>\n",
       "      <td>0.000000e+00</td>\n",
       "      <td>0.000000e+00</td>\n",
       "      <td>0.000000e+00</td>\n",
       "      <td>0.000000e+00</td>\n",
       "      <td>0.0</td>\n",
       "      <td>0.0</td>\n",
       "      <td>0.0</td>\n",
       "      <td>0.0</td>\n",
       "      <td>0.0</td>\n",
       "      <td>...</td>\n",
       "      <td>-0.0</td>\n",
       "      <td>0.6</td>\n",
       "      <td>-0.0</td>\n",
       "      <td>-0.0</td>\n",
       "      <td>0.0</td>\n",
       "      <td>0</td>\n",
       "      <td>0.0</td>\n",
       "      <td>0</td>\n",
       "      <td>0</td>\n",
       "      <td>0</td>\n",
       "    </tr>\n",
       "    <tr>\n",
       "      <th>4</th>\n",
       "      <td>0.000000e+00</td>\n",
       "      <td>0.000000e+00</td>\n",
       "      <td>0.000000e+00</td>\n",
       "      <td>2.695900e-29</td>\n",
       "      <td>0.000000e+00</td>\n",
       "      <td>0.0</td>\n",
       "      <td>0.0</td>\n",
       "      <td>0.0</td>\n",
       "      <td>0.0</td>\n",
       "      <td>0.0</td>\n",
       "      <td>...</td>\n",
       "      <td>-0.0</td>\n",
       "      <td>0.6</td>\n",
       "      <td>-0.0</td>\n",
       "      <td>-0.0</td>\n",
       "      <td>0.0</td>\n",
       "      <td>0</td>\n",
       "      <td>0.0</td>\n",
       "      <td>0</td>\n",
       "      <td>0</td>\n",
       "      <td>0</td>\n",
       "    </tr>\n",
       "  </tbody>\n",
       "</table>\n",
       "<p>5 rows × 2068 columns</p>\n",
       "</div>"
      ],
      "text/plain": [
       "           0             1             2             3             4     5     \\\n",
       "0  0.000000e+00  0.000000e+00  0.000000e+00  0.000000e+00  0.000000e+00   0.0   \n",
       "1  0.000000e+00  4.692800e-34  1.025800e-27  6.151300e-29  0.000000e+00   0.0   \n",
       "2  1.348900e-29  0.000000e+00  0.000000e+00  7.639300e-28  1.029200e-27   0.0   \n",
       "3  0.000000e+00  0.000000e+00  0.000000e+00  0.000000e+00  0.000000e+00   0.0   \n",
       "4  0.000000e+00  0.000000e+00  0.000000e+00  2.695900e-29  0.000000e+00   0.0   \n",
       "\n",
       "   6     11    12    17    ...  2368  2369  2370  2371  2372  2374  2375  \\\n",
       "0   0.0   0.0   0.2   0.0  ...  -0.0   0.6  -0.0  -0.0   0.0     0   0.0   \n",
       "1   0.0   0.0   0.0   0.0  ...  -0.0   0.8  -0.0   0.2   0.2     0   0.0   \n",
       "2   0.0   0.0   0.2   0.0  ...  -0.0   0.6  -0.0  -0.0   0.0     0   0.0   \n",
       "3   0.0   0.0   0.0   0.0  ...  -0.0   0.6  -0.0  -0.0   0.0     0   0.0   \n",
       "4   0.0   0.0   0.0   0.0  ...  -0.0   0.6  -0.0  -0.0   0.0     0   0.0   \n",
       "\n",
       "   2377  2378  2380  \n",
       "0     0     0     0  \n",
       "1     0     0     0  \n",
       "2     0     0     0  \n",
       "3     0     0     0  \n",
       "4     0     0     0  \n",
       "\n",
       "[5 rows x 2068 columns]"
      ]
     },
     "execution_count": 16,
     "metadata": {},
     "output_type": "execute_result"
    }
   ],
   "source": [
    "X.head()"
   ]
  },
  {
   "cell_type": "code",
   "execution_count": 19,
   "metadata": {},
   "outputs": [],
   "source": [
    "# Split data into training and test (note the encoded_y is a single column)\n",
    "from sklearn.model_selection import train_test_split\n",
    "X_train, X_test, fba_y_train, fba_y_test = train_test_split(X, fba_y, test_size=0.25, random_state=0)"
   ]
  },
  {
   "cell_type": "code",
   "execution_count": 22,
   "metadata": {},
   "outputs": [],
   "source": [
    "from sklearn.linear_model import Lasso\n",
    "lasso_fba = Lasso(alpha=1)"
   ]
  },
  {
   "cell_type": "code",
   "execution_count": 23,
   "metadata": {},
   "outputs": [
    {
     "data": {
      "text/plain": [
       "Lasso(alpha=1, copy_X=True, fit_intercept=True, max_iter=1000,\n",
       "   normalize=False, positive=False, precompute=False, random_state=None,\n",
       "   selection='cyclic', tol=0.0001, warm_start=False)"
      ]
     },
     "execution_count": 23,
     "metadata": {},
     "output_type": "execute_result"
    }
   ],
   "source": [
    "lasso_fba.fit(X_train, fba_y_train)"
   ]
  },
  {
   "cell_type": "code",
   "execution_count": 28,
   "metadata": {},
   "outputs": [
    {
     "data": {
      "text/plain": [
       "array([0.13498902, 0.05082819, 0.01110022, 0.08149858])"
      ]
     },
     "execution_count": 28,
     "metadata": {},
     "output_type": "execute_result"
    }
   ],
   "source": [
    "# Let's see out of couple of thousand features, which are at least greater than 0.01 \n",
    "lasso_fba.coef_[lasso_fba.coef_ > 0.01]"
   ]
  },
  {
   "cell_type": "code",
   "execution_count": 29,
   "metadata": {},
   "outputs": [],
   "source": [
    "# Use test data to predict\n",
    "y_predict = lasso_fba.predict(X_test)"
   ]
  },
  {
   "cell_type": "code",
   "execution_count": 35,
   "metadata": {},
   "outputs": [
    {
     "data": {
      "text/plain": [
       "Text(0, 0.5, 'y-test')"
      ]
     },
     "execution_count": 35,
     "metadata": {},
     "output_type": "execute_result"
    },
    {
     "data": {
      "image/png": "[encoded data removed]",
      "text/plain": [
       "<Figure size 432x288 with 1 Axes>"
      ]
     },
     "metadata": {
      "needs_background": "light"
     },
     "output_type": "display_data"
    }
   ],
   "source": [
    "## Looks like we did liinear regresssion, not  logistic regression ( a simple test !)\n",
    "import matplotlib.pyplot as plt\n",
    "plt.scatter(y_predict, fba_y_test)\n",
    "plt.xlabel('y-predict')\n",
    "plt.ylabel('y-test')\n"
   ]
  },
  {
   "cell_type": "code",
   "execution_count": 42,
   "metadata": {},
   "outputs": [],
   "source": [
    "# THIS IS THE KEY FOR THE ENTIRE SCRIPT - LOOK AT THE PENALTY WHICH IS POSSIBLE WITH SOLVER AND ONE-VERSUS-REST METHOD\n",
    "# ALSO NOTE THE NUMBER OF ITERATIONS THAT ARE VERY VERY HIGH -- I USED THE SAME ITERATIONS FROM THE ORIGINAL PAPER\n",
    "# LOWER ITERATIONS MIGHT NOT GET CONVERGED!\n",
    "from sklearn.linear_model import LogisticRegression\n",
    "log_lasso_fba = LogisticRegression(penalty='l2', solver='sag', multi_class='ovr', max_iter=9000000)"
   ]
  },
  {
   "cell_type": "code",
   "execution_count": 43,
   "metadata": {},
   "outputs": [
    {
     "data": {
      "text/plain": [
       "LogisticRegression(C=1.0, class_weight=None, dual=False, fit_intercept=True,\n",
       "          intercept_scaling=1, max_iter=9000000, multi_class='ovr',\n",
       "          n_jobs=None, penalty='l2', random_state=None, solver='sag',\n",
       "          tol=0.0001, verbose=0, warm_start=False)"
      ]
     },
     "execution_count": 43,
     "metadata": {},
     "output_type": "execute_result"
    }
   ],
   "source": [
    "log_lasso_fba.fit(X_train, fba_y_train)"
   ]
  },
  {
   "cell_type": "code",
   "execution_count": 45,
   "metadata": {},
   "outputs": [],
   "source": [
    "fba_y_test_log = log_lasso_fba.predict(X_test)"
   ]
  },
  {
   "cell_type": "code",
   "execution_count": 48,
   "metadata": {},
   "outputs": [],
   "source": [
    "#As I mentioned in the previous post related to flux balance analysis with COBRApy, I used R version of COBRA for flux balance analyses\n",
    "#and R version of GLMNET package (to perform lasso analyses). Here, my focus is to use python modules and focus on lasso and other logistic regression methods.\n",
    "\n",
    "#The data to be analyzed is the output of the flux balance analyses. FBA output is a vector of metabolic fluxes. If you consider multiple grown conditions, you will end up with a matrix i.e., each growth condition results in a set of fluxes.\n",
    "#Here, we try to predict the original growth conditions using the FBA output. Since the metabolic model has close to couple of thousand reacitons, this is a high-dimensional feature dataset.\n",
    "\n",
    "#The data considered has some artificial noise introduced (more info: look at the original paper) and the idea is to generate replicates for training the model(ideas from original authors)\n",
    "#Given replicates for each growth condition, we can use subset to train the model and the rest to test OR we can use cross-validation to measure the accuracy of the model.\n",
    "\n",
    "#Original R script can be found here: https://github.com/viswam78/Ecoli_FBA_input_prediction/blob/master/Analysis/Scripts/GLMNET.R (from Wilke lab)\n",
    "#diagonal means they are correctly predicted. Better to look at the confusion matrix?       \n"
   ]
  },
  {
   "cell_type": "code",
   "execution_count": 49,
   "metadata": {},
   "outputs": [
    {
     "data": {
      "text/plain": [
       "array([[143,   0,   0,  25,   0,   1,   0],\n",
       "       [  0, 151,   0,  22,   0,   2,   0],\n",
       "       [  0,   0, 157,  18,   0,   0,   0],\n",
       "       [  0,   0,   0, 177,   1,   0,   0],\n",
       "       [  0,   0,   0,  32, 138,   1,   0],\n",
       "       [  0,   0,   0,  29,   0, 146,   0],\n",
       "       [  0,   0,   2,  29,   0,   0, 151]], dtype=int64)"
      ]
     },
     "execution_count": 49,
     "metadata": {},
     "output_type": "execute_result"
    }
   ],
   "source": [
    "# confusion matrix\n",
    "from sklearn.metrics import confusion_matrix\n",
    "confusion_matrix(fba_y_test, fba_y_test_log)"
   ]
  },
  {
   "cell_type": "code",
   "execution_count": 61,
   "metadata": {},
   "outputs": [],
   "source": [
    "# We have to go back and see what 4th column is. This growth condition gets predicted as other types as well.\n",
    "# https://github.com/clauswilke/Ecoli_FBA_input_prediction/blob/master/Manuscript/Figures/Fig3.pdf\n",
    "# Same as the case from the original study where other sources sometimes get predicted as acetate - for detailed, explanation read the original paper from Wilke lab.\n"
   ]
  },
  {
   "cell_type": "code",
   "execution_count": 60,
   "metadata": {},
   "outputs": [
    {
     "data": {
      "image/png": "[encoded data removed]",
      "text/plain": [
       "<Figure size 432x288 with 2 Axes>"
      ]
     },
     "metadata": {
      "needs_background": "light"
     },
     "output_type": "display_data"
    }
   ],
   "source": [
    "data_4_heatmap = confusion_matrix(fba_y_test, fba_y_test_log)\n",
    "import matplotlib.pyplot as plt\n",
    "import seaborn as sns\n",
    "ax = sns.heatmap(data_4_heatmap, linewidth=0.5)\n",
    "plt.xlabel('y-predict')\n",
    "plt.ylabel('y-test')\n",
    "plt.show()"
   ]
  },
  {
   "cell_type": "code",
   "execution_count": null,
   "metadata": {},
   "outputs": [],
   "source": []
  }
 ],
 "metadata": {
  "kernelspec": {
   "display_name": "Python 3",
   "language": "python",
   "name": "python3"
  },
  "language_info": {
   "codemirror_mode": {
    "name": "ipython",
    "version": 3
   },
   "file_extension": ".py",
   "mimetype": "text/x-python",
   "name": "python",
   "nbconvert_exporter": "python",
   "pygments_lexer": "ipython3",
   "version": "3.7.2"
  }
 },
 "nbformat": 4,
 "nbformat_minor": 2
}
