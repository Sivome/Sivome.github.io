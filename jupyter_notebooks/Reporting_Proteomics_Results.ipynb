{
 "cells": [
  {
   "cell_type": "code",
   "execution_count": 1,
   "metadata": {},
   "outputs": [],
   "source": [
    "import numpy as np\n",
    "import pandas as pd\n",
    "import matplotlib.pyplot as plt\n",
    "from matplotlib import ticker"
   ]
  },
  {
   "cell_type": "code",
   "execution_count": 2,
   "metadata": {},
   "outputs": [],
   "source": [
    "# Display multiple columns, common in high-dimensional space (add rows as well)\n",
    "pd.set_option('display.max_columns', 100)\n",
    "pd.set_option('display.max_rows', 20)"
   ]
  },
  {
   "cell_type": "code",
   "execution_count": 3,
   "metadata": {},
   "outputs": [],
   "source": [
    "omssa_output = pd.read_csv(\"/Users/Viswa/Downloads/singleShot_Fusion-1552153703580/S288c_run.csv\")"
   ]
  },
  {
   "cell_type": "code",
   "execution_count": 4,
   "metadata": {},
   "outputs": [
    {
     "data": {
      "text/html": [
       "<div>\n",
       "<style scoped>\n",
       "    .dataframe tbody tr th:only-of-type {\n",
       "        vertical-align: middle;\n",
       "    }\n",
       "\n",
       "    .dataframe tbody tr th {\n",
       "        vertical-align: top;\n",
       "    }\n",
       "\n",
       "    .dataframe thead th {\n",
       "        text-align: right;\n",
       "    }\n",
       "</style>\n",
       "<table border=\"1\" class=\"dataframe\">\n",
       "  <thead>\n",
       "    <tr style=\"text-align: right;\">\n",
       "      <th></th>\n",
       "      <th>Spectrum number</th>\n",
       "      <th>Filename/id</th>\n",
       "      <th>Peptide</th>\n",
       "      <th>E-value</th>\n",
       "      <th>Mass</th>\n",
       "      <th>gi</th>\n",
       "      <th>Accession</th>\n",
       "      <th>Start</th>\n",
       "      <th>Stop</th>\n",
       "      <th>Defline</th>\n",
       "      <th>Mods</th>\n",
       "      <th>Charge</th>\n",
       "      <th>Theo Mass</th>\n",
       "      <th>P-value</th>\n",
       "      <th>NIST score</th>\n",
       "    </tr>\n",
       "  </thead>\n",
       "  <tbody>\n",
       "    <tr>\n",
       "      <th>0</th>\n",
       "      <td>120</td>\n",
       "      <td>index=120</td>\n",
       "      <td>GSIDEQHPR</td>\n",
       "      <td>0.099394</td>\n",
       "      <td>1037.487</td>\n",
       "      <td>0</td>\n",
       "      <td>BL_ORD_ID:50</td>\n",
       "      <td>250</td>\n",
       "      <td>258</td>\n",
       "      <td>sp|P06169|PDC1_YEAST Pyruvate decarboxylase is...</td>\n",
       "      <td>NaN</td>\n",
       "      <td>2</td>\n",
       "      <td>1037.490</td>\n",
       "      <td>3.803824e-05</td>\n",
       "      <td>0</td>\n",
       "    </tr>\n",
       "    <tr>\n",
       "      <th>1</th>\n",
       "      <td>120</td>\n",
       "      <td>index=120</td>\n",
       "      <td>GSIDEQHPR</td>\n",
       "      <td>0.099394</td>\n",
       "      <td>1037.487</td>\n",
       "      <td>0</td>\n",
       "      <td>BL_ORD_ID:131</td>\n",
       "      <td>250</td>\n",
       "      <td>258</td>\n",
       "      <td>sp|P26263|PDC6_YEAST Pyruvate decarboxylase is...</td>\n",
       "      <td>NaN</td>\n",
       "      <td>2</td>\n",
       "      <td>1037.490</td>\n",
       "      <td>3.803824e-05</td>\n",
       "      <td>0</td>\n",
       "    </tr>\n",
       "    <tr>\n",
       "      <th>2</th>\n",
       "      <td>339</td>\n",
       "      <td>index=339</td>\n",
       "      <td>TSGRPIKGDSSAGGK</td>\n",
       "      <td>0.001174</td>\n",
       "      <td>1416.728</td>\n",
       "      <td>0</td>\n",
       "      <td>BL_ORD_ID:2647</td>\n",
       "      <td>176</td>\n",
       "      <td>190</td>\n",
       "      <td>sp|P47075|VTC4_YEAST Vacuolar transporter chap...</td>\n",
       "      <td>NaN</td>\n",
       "      <td>3</td>\n",
       "      <td>1416.731</td>\n",
       "      <td>5.359808e-07</td>\n",
       "      <td>0</td>\n",
       "    </tr>\n",
       "    <tr>\n",
       "      <th>3</th>\n",
       "      <td>421</td>\n",
       "      <td>index=421</td>\n",
       "      <td>TSGRPIKGDSSAGGK</td>\n",
       "      <td>0.035522</td>\n",
       "      <td>1416.729</td>\n",
       "      <td>0</td>\n",
       "      <td>BL_ORD_ID:2647</td>\n",
       "      <td>176</td>\n",
       "      <td>190</td>\n",
       "      <td>sp|P47075|VTC4_YEAST Vacuolar transporter chap...</td>\n",
       "      <td>NaN</td>\n",
       "      <td>2</td>\n",
       "      <td>1416.731</td>\n",
       "      <td>1.624232e-05</td>\n",
       "      <td>0</td>\n",
       "    </tr>\n",
       "    <tr>\n",
       "      <th>4</th>\n",
       "      <td>506</td>\n",
       "      <td>index=506</td>\n",
       "      <td>NEETSGEGGEDKNEPSSK</td>\n",
       "      <td>0.028961</td>\n",
       "      <td>1892.786</td>\n",
       "      <td>0</td>\n",
       "      <td>BL_ORD_ID:4527</td>\n",
       "      <td>76</td>\n",
       "      <td>93</td>\n",
       "      <td>sp|Q02776|TIM50_YEAST Mitochondrial import inn...</td>\n",
       "      <td>NaN</td>\n",
       "      <td>3</td>\n",
       "      <td>1892.789</td>\n",
       "      <td>1.991815e-05</td>\n",
       "      <td>0</td>\n",
       "    </tr>\n",
       "  </tbody>\n",
       "</table>\n",
       "</div>"
      ],
      "text/plain": [
       "   Spectrum number  Filename/id             Peptide   E-value      Mass   gi  \\\n",
       "0              120    index=120           GSIDEQHPR  0.099394  1037.487    0   \n",
       "1              120    index=120           GSIDEQHPR  0.099394  1037.487    0   \n",
       "2              339    index=339     TSGRPIKGDSSAGGK  0.001174  1416.728    0   \n",
       "3              421    index=421     TSGRPIKGDSSAGGK  0.035522  1416.729    0   \n",
       "4              506    index=506  NEETSGEGGEDKNEPSSK  0.028961  1892.786    0   \n",
       "\n",
       "        Accession   Start   Stop  \\\n",
       "0    BL_ORD_ID:50     250    258   \n",
       "1   BL_ORD_ID:131     250    258   \n",
       "2  BL_ORD_ID:2647     176    190   \n",
       "3  BL_ORD_ID:2647     176    190   \n",
       "4  BL_ORD_ID:4527      76     93   \n",
       "\n",
       "                                             Defline  Mods   Charge  \\\n",
       "0  sp|P06169|PDC1_YEAST Pyruvate decarboxylase is...   NaN        2   \n",
       "1  sp|P26263|PDC6_YEAST Pyruvate decarboxylase is...   NaN        2   \n",
       "2  sp|P47075|VTC4_YEAST Vacuolar transporter chap...   NaN        3   \n",
       "3  sp|P47075|VTC4_YEAST Vacuolar transporter chap...   NaN        2   \n",
       "4  sp|Q02776|TIM50_YEAST Mitochondrial import inn...   NaN        3   \n",
       "\n",
       "    Theo Mass       P-value   NIST score  \n",
       "0    1037.490  3.803824e-05            0  \n",
       "1    1037.490  3.803824e-05            0  \n",
       "2    1416.731  5.359808e-07            0  \n",
       "3    1416.731  1.624232e-05            0  \n",
       "4    1892.789  1.991815e-05            0  "
      ]
     },
     "execution_count": 4,
     "metadata": {},
     "output_type": "execute_result"
    }
   ],
   "source": [
    "omssa_output.head() # Talk about different accessions?"
   ]
  },
  {
   "cell_type": "code",
   "execution_count": 5,
   "metadata": {},
   "outputs": [
    {
     "data": {
      "text/plain": [
       "Index(['Spectrum number', ' Filename/id', ' Peptide', ' E-value', ' Mass',\n",
       "       ' gi', ' Accession', ' Start', ' Stop', ' Defline', ' Mods', ' Charge',\n",
       "       ' Theo Mass', ' P-value', ' NIST score'],\n",
       "      dtype='object')"
      ]
     },
     "execution_count": 5,
     "metadata": {},
     "output_type": "execute_result"
    }
   ],
   "source": [
    "omssa_output.columns"
   ]
  },
  {
   "cell_type": "code",
   "execution_count": 6,
   "metadata": {},
   "outputs": [
    {
     "data": {
      "text/plain": [
       "<bound method Figure.tight_layout of <Figure size 432x288 with 1 Axes>>"
      ]
     },
     "execution_count": 6,
     "metadata": {},
     "output_type": "execute_result"
    },
    {
     "data": {
      "image/png": "[encoded data removed]",
      "text/plain": [
       "<Figure size 432x288 with 1 Axes>"
      ]
     },
     "metadata": {
      "needs_background": "light"
     },
     "output_type": "display_data"
    }
   ],
   "source": [
    "eps=1e-32 # To take care of zeoes\n",
    "fig, ax = plt.subplots()\n",
    "plt.hist(np.log10(eps + omssa_output[' E-value']), bins = 100)\n",
    "loc = ticker.MultipleLocator(base=2) # thanks again to google!\n",
    "ax.xaxis.set_major_locator(loc)\n",
    "ax.set_xlabel('Score in E-value')\n",
    "ax.set_ylabel('Counts')\n",
    "ax.set_title('Score distribution')\n",
    "fig.tight_layout"
   ]
  },
  {
   "cell_type": "code",
   "execution_count": 7,
   "metadata": {},
   "outputs": [],
   "source": [
    "# Add IsMod column to see where oxidation is\n",
    "omssa_output[' IsMod'] = omssa_output[' Mods'].str.match('oxidation', na=False)"
   ]
  },
  {
   "cell_type": "code",
   "execution_count": 8,
   "metadata": {},
   "outputs": [
    {
     "data": {
      "text/html": [
       "<div>\n",
       "<style scoped>\n",
       "    .dataframe tbody tr th:only-of-type {\n",
       "        vertical-align: middle;\n",
       "    }\n",
       "\n",
       "    .dataframe tbody tr th {\n",
       "        vertical-align: top;\n",
       "    }\n",
       "\n",
       "    .dataframe thead th {\n",
       "        text-align: right;\n",
       "    }\n",
       "</style>\n",
       "<table border=\"1\" class=\"dataframe\">\n",
       "  <thead>\n",
       "    <tr style=\"text-align: right;\">\n",
       "      <th></th>\n",
       "      <th>Spectrum number</th>\n",
       "      <th>Filename/id</th>\n",
       "      <th>Peptide</th>\n",
       "      <th>E-value</th>\n",
       "      <th>Mass</th>\n",
       "      <th>gi</th>\n",
       "      <th>Accession</th>\n",
       "      <th>Start</th>\n",
       "      <th>Stop</th>\n",
       "      <th>Defline</th>\n",
       "      <th>Mods</th>\n",
       "      <th>Charge</th>\n",
       "      <th>Theo Mass</th>\n",
       "      <th>P-value</th>\n",
       "      <th>NIST score</th>\n",
       "      <th>IsMod</th>\n",
       "    </tr>\n",
       "  </thead>\n",
       "  <tbody>\n",
       "    <tr>\n",
       "      <th>55</th>\n",
       "      <td>729</td>\n",
       "      <td>index=729</td>\n",
       "      <td>SKQEASQmAAmAEK</td>\n",
       "      <td>0.003606</td>\n",
       "      <td>1540.685</td>\n",
       "      <td>0</td>\n",
       "      <td>BL_ORD_ID:6013</td>\n",
       "      <td>655</td>\n",
       "      <td>668</td>\n",
       "      <td>sp|P32589|HSP7F_YEAST Heat shock protein homol...</td>\n",
       "      <td>oxidation of M:8 ,oxidation of M:11</td>\n",
       "      <td>2</td>\n",
       "      <td>1540.687</td>\n",
       "      <td>0.000002</td>\n",
       "      <td>0</td>\n",
       "      <td>True</td>\n",
       "    </tr>\n",
       "    <tr>\n",
       "      <th>91</th>\n",
       "      <td>1001</td>\n",
       "      <td>index=1001</td>\n",
       "      <td>YATmTGHHVER</td>\n",
       "      <td>0.023147</td>\n",
       "      <td>1316.591</td>\n",
       "      <td>0</td>\n",
       "      <td>BL_ORD_ID:4636</td>\n",
       "      <td>70</td>\n",
       "      <td>80</td>\n",
       "      <td>sp|P09436|SYIC_YEAST Isoleucine--tRNA ligase, ...</td>\n",
       "      <td>oxidation of M:4</td>\n",
       "      <td>3</td>\n",
       "      <td>1316.593</td>\n",
       "      <td>0.000011</td>\n",
       "      <td>0</td>\n",
       "      <td>True</td>\n",
       "    </tr>\n",
       "    <tr>\n",
       "      <th>92</th>\n",
       "      <td>1005</td>\n",
       "      <td>index=1005</td>\n",
       "      <td>YATmTGHHVER</td>\n",
       "      <td>0.006636</td>\n",
       "      <td>1316.593</td>\n",
       "      <td>0</td>\n",
       "      <td>BL_ORD_ID:4636</td>\n",
       "      <td>70</td>\n",
       "      <td>80</td>\n",
       "      <td>sp|P09436|SYIC_YEAST Isoleucine--tRNA ligase, ...</td>\n",
       "      <td>oxidation of M:4</td>\n",
       "      <td>2</td>\n",
       "      <td>1316.593</td>\n",
       "      <td>0.000003</td>\n",
       "      <td>0</td>\n",
       "      <td>True</td>\n",
       "    </tr>\n",
       "    <tr>\n",
       "      <th>243</th>\n",
       "      <td>1754</td>\n",
       "      <td>index=1754</td>\n",
       "      <td>TPAEmSRPATTTR</td>\n",
       "      <td>0.490255</td>\n",
       "      <td>1433.174</td>\n",
       "      <td>0</td>\n",
       "      <td>BL_ORD_ID:3809</td>\n",
       "      <td>1361</td>\n",
       "      <td>1373</td>\n",
       "      <td>sp|P19097|FAS2_YEAST Fatty acid synthase subun...</td>\n",
       "      <td>oxidation of M:5</td>\n",
       "      <td>3</td>\n",
       "      <td>1433.695</td>\n",
       "      <td>0.000236</td>\n",
       "      <td>0</td>\n",
       "      <td>True</td>\n",
       "    </tr>\n",
       "    <tr>\n",
       "      <th>255</th>\n",
       "      <td>1823</td>\n",
       "      <td>index=1823</td>\n",
       "      <td>TPAEmSRPATTTR</td>\n",
       "      <td>0.517651</td>\n",
       "      <td>1433.690</td>\n",
       "      <td>0</td>\n",
       "      <td>BL_ORD_ID:3809</td>\n",
       "      <td>1361</td>\n",
       "      <td>1373</td>\n",
       "      <td>sp|P19097|FAS2_YEAST Fatty acid synthase subun...</td>\n",
       "      <td>oxidation of M:5</td>\n",
       "      <td>3</td>\n",
       "      <td>1433.695</td>\n",
       "      <td>0.000250</td>\n",
       "      <td>0</td>\n",
       "      <td>True</td>\n",
       "    </tr>\n",
       "  </tbody>\n",
       "</table>\n",
       "</div>"
      ],
      "text/plain": [
       "     Spectrum number  Filename/id         Peptide   E-value      Mass   gi  \\\n",
       "55               729    index=729  SKQEASQmAAmAEK  0.003606  1540.685    0   \n",
       "91              1001   index=1001     YATmTGHHVER  0.023147  1316.591    0   \n",
       "92              1005   index=1005     YATmTGHHVER  0.006636  1316.593    0   \n",
       "243             1754   index=1754   TPAEmSRPATTTR  0.490255  1433.174    0   \n",
       "255             1823   index=1823   TPAEmSRPATTTR  0.517651  1433.690    0   \n",
       "\n",
       "          Accession   Start   Stop  \\\n",
       "55   BL_ORD_ID:6013     655    668   \n",
       "91   BL_ORD_ID:4636      70     80   \n",
       "92   BL_ORD_ID:4636      70     80   \n",
       "243  BL_ORD_ID:3809    1361   1373   \n",
       "255  BL_ORD_ID:3809    1361   1373   \n",
       "\n",
       "                                               Defline  \\\n",
       "55   sp|P32589|HSP7F_YEAST Heat shock protein homol...   \n",
       "91   sp|P09436|SYIC_YEAST Isoleucine--tRNA ligase, ...   \n",
       "92   sp|P09436|SYIC_YEAST Isoleucine--tRNA ligase, ...   \n",
       "243  sp|P19097|FAS2_YEAST Fatty acid synthase subun...   \n",
       "255  sp|P19097|FAS2_YEAST Fatty acid synthase subun...   \n",
       "\n",
       "                                    Mods   Charge   Theo Mass   P-value  \\\n",
       "55   oxidation of M:8 ,oxidation of M:11        2    1540.687  0.000002   \n",
       "91                      oxidation of M:4        3    1316.593  0.000011   \n",
       "92                      oxidation of M:4        2    1316.593  0.000003   \n",
       "243                     oxidation of M:5        3    1433.695  0.000236   \n",
       "255                     oxidation of M:5        3    1433.695  0.000250   \n",
       "\n",
       "      NIST score   IsMod  \n",
       "55             0    True  \n",
       "91             0    True  \n",
       "92             0    True  \n",
       "243            0    True  \n",
       "255            0    True  "
      ]
     },
     "execution_count": 8,
     "metadata": {},
     "output_type": "execute_result"
    }
   ],
   "source": [
    "mods_only = omssa_output[omssa_output[' IsMod'].values]\n",
    "mods_only.head()"
   ]
  },
  {
   "cell_type": "code",
   "execution_count": 9,
   "metadata": {},
   "outputs": [],
   "source": [
    "# Add a length column that represents the length of the peptide\n",
    "omssa_output[' Length'] = omssa_output[' Peptide'].apply(len)"
   ]
  },
  {
   "cell_type": "code",
   "execution_count": 10,
   "metadata": {},
   "outputs": [],
   "source": [
    "# Add a IsReverse column to represent if the hit is from target database or the decoy database\n",
    "omssa_output[' IsReverse'] = omssa_output[' Defline'].str.match('###REV###')"
   ]
  },
  {
   "cell_type": "code",
   "execution_count": 11,
   "metadata": {},
   "outputs": [],
   "source": [
    "Reverse_yeast_hits_only = omssa_output[omssa_output[' IsReverse'].values]"
   ]
  },
  {
   "cell_type": "code",
   "execution_count": 12,
   "metadata": {},
   "outputs": [
    {
     "data": {
      "text/html": [
       "<div>\n",
       "<style scoped>\n",
       "    .dataframe tbody tr th:only-of-type {\n",
       "        vertical-align: middle;\n",
       "    }\n",
       "\n",
       "    .dataframe tbody tr th {\n",
       "        vertical-align: top;\n",
       "    }\n",
       "\n",
       "    .dataframe thead th {\n",
       "        text-align: right;\n",
       "    }\n",
       "</style>\n",
       "<table border=\"1\" class=\"dataframe\">\n",
       "  <thead>\n",
       "    <tr style=\"text-align: right;\">\n",
       "      <th></th>\n",
       "      <th>Spectrum number</th>\n",
       "      <th>Filename/id</th>\n",
       "      <th>Peptide</th>\n",
       "      <th>E-value</th>\n",
       "      <th>Mass</th>\n",
       "      <th>gi</th>\n",
       "      <th>Accession</th>\n",
       "      <th>Start</th>\n",
       "      <th>Stop</th>\n",
       "      <th>Defline</th>\n",
       "      <th>Mods</th>\n",
       "      <th>Charge</th>\n",
       "      <th>Theo Mass</th>\n",
       "      <th>P-value</th>\n",
       "      <th>NIST score</th>\n",
       "      <th>IsMod</th>\n",
       "      <th>Length</th>\n",
       "      <th>IsReverse</th>\n",
       "    </tr>\n",
       "  </thead>\n",
       "  <tbody>\n",
       "    <tr>\n",
       "      <th>75</th>\n",
       "      <td>872</td>\n",
       "      <td>index=872</td>\n",
       "      <td>QETASNKPLKLYSCITR</td>\n",
       "      <td>0.456971</td>\n",
       "      <td>2007.920</td>\n",
       "      <td>0</td>\n",
       "      <td>BL_ORD_ID:9855</td>\n",
       "      <td>835</td>\n",
       "      <td>851</td>\n",
       "      <td>###REV###sp|Q08387|DNLI4_YEAST Reverse sequenc...</td>\n",
       "      <td>NaN</td>\n",
       "      <td>3</td>\n",
       "      <td>2008.042</td>\n",
       "      <td>0.000310</td>\n",
       "      <td>0</td>\n",
       "      <td>False</td>\n",
       "      <td>17</td>\n",
       "      <td>True</td>\n",
       "    </tr>\n",
       "    <tr>\n",
       "      <th>117</th>\n",
       "      <td>1103</td>\n",
       "      <td>index=1103</td>\n",
       "      <td>RTLEPTSLGGLIEVLR</td>\n",
       "      <td>0.574082</td>\n",
       "      <td>1753.787</td>\n",
       "      <td>0</td>\n",
       "      <td>BL_ORD_ID:11219</td>\n",
       "      <td>659</td>\n",
       "      <td>674</td>\n",
       "      <td>###REV###sp|P38850|RT107_YEAST Reverse sequenc...</td>\n",
       "      <td>NaN</td>\n",
       "      <td>3</td>\n",
       "      <td>1753.010</td>\n",
       "      <td>0.000363</td>\n",
       "      <td>0</td>\n",
       "      <td>False</td>\n",
       "      <td>16</td>\n",
       "      <td>True</td>\n",
       "    </tr>\n",
       "    <tr>\n",
       "      <th>131</th>\n",
       "      <td>1179</td>\n",
       "      <td>index=1179</td>\n",
       "      <td>KASLLILDDHSDDNK</td>\n",
       "      <td>0.381089</td>\n",
       "      <td>1682.339</td>\n",
       "      <td>0</td>\n",
       "      <td>BL_ORD_ID:10482</td>\n",
       "      <td>630</td>\n",
       "      <td>644</td>\n",
       "      <td>###REV###sp|Q06673|ECM30_YEAST Reverse sequenc...</td>\n",
       "      <td>NaN</td>\n",
       "      <td>3</td>\n",
       "      <td>1682.848</td>\n",
       "      <td>0.000249</td>\n",
       "      <td>0</td>\n",
       "      <td>False</td>\n",
       "      <td>15</td>\n",
       "      <td>True</td>\n",
       "    </tr>\n",
       "    <tr>\n",
       "      <th>167</th>\n",
       "      <td>1375</td>\n",
       "      <td>index=1375</td>\n",
       "      <td>KASLLILDDHSDDNK</td>\n",
       "      <td>0.378321</td>\n",
       "      <td>1683.785</td>\n",
       "      <td>0</td>\n",
       "      <td>BL_ORD_ID:10482</td>\n",
       "      <td>630</td>\n",
       "      <td>644</td>\n",
       "      <td>###REV###sp|Q06673|ECM30_YEAST Reverse sequenc...</td>\n",
       "      <td>NaN</td>\n",
       "      <td>3</td>\n",
       "      <td>1682.848</td>\n",
       "      <td>0.000248</td>\n",
       "      <td>0</td>\n",
       "      <td>False</td>\n",
       "      <td>15</td>\n",
       "      <td>True</td>\n",
       "    </tr>\n",
       "    <tr>\n",
       "      <th>595</th>\n",
       "      <td>3081</td>\n",
       "      <td>index=3081</td>\n",
       "      <td>DAAQVAEEVDDER</td>\n",
       "      <td>0.733552</td>\n",
       "      <td>1443.671</td>\n",
       "      <td>0</td>\n",
       "      <td>BL_ORD_ID:11559</td>\n",
       "      <td>428</td>\n",
       "      <td>440</td>\n",
       "      <td>###REV###sp|P46367|ALDH4_YEAST Reverse sequenc...</td>\n",
       "      <td>NaN</td>\n",
       "      <td>3</td>\n",
       "      <td>1445.628</td>\n",
       "      <td>0.000367</td>\n",
       "      <td>0</td>\n",
       "      <td>False</td>\n",
       "      <td>13</td>\n",
       "      <td>True</td>\n",
       "    </tr>\n",
       "  </tbody>\n",
       "</table>\n",
       "</div>"
      ],
      "text/plain": [
       "     Spectrum number  Filename/id            Peptide   E-value      Mass   gi  \\\n",
       "75               872    index=872  QETASNKPLKLYSCITR  0.456971  2007.920    0   \n",
       "117             1103   index=1103   RTLEPTSLGGLIEVLR  0.574082  1753.787    0   \n",
       "131             1179   index=1179    KASLLILDDHSDDNK  0.381089  1682.339    0   \n",
       "167             1375   index=1375    KASLLILDDHSDDNK  0.378321  1683.785    0   \n",
       "595             3081   index=3081      DAAQVAEEVDDER  0.733552  1443.671    0   \n",
       "\n",
       "           Accession   Start   Stop  \\\n",
       "75    BL_ORD_ID:9855     835    851   \n",
       "117  BL_ORD_ID:11219     659    674   \n",
       "131  BL_ORD_ID:10482     630    644   \n",
       "167  BL_ORD_ID:10482     630    644   \n",
       "595  BL_ORD_ID:11559     428    440   \n",
       "\n",
       "                                               Defline  Mods   Charge  \\\n",
       "75   ###REV###sp|Q08387|DNLI4_YEAST Reverse sequenc...   NaN        3   \n",
       "117  ###REV###sp|P38850|RT107_YEAST Reverse sequenc...   NaN        3   \n",
       "131  ###REV###sp|Q06673|ECM30_YEAST Reverse sequenc...   NaN        3   \n",
       "167  ###REV###sp|Q06673|ECM30_YEAST Reverse sequenc...   NaN        3   \n",
       "595  ###REV###sp|P46367|ALDH4_YEAST Reverse sequenc...   NaN        3   \n",
       "\n",
       "      Theo Mass   P-value   NIST score   IsMod   Length   IsReverse  \n",
       "75     2008.042  0.000310            0   False       17        True  \n",
       "117    1753.010  0.000363            0   False       16        True  \n",
       "131    1682.848  0.000249            0   False       15        True  \n",
       "167    1682.848  0.000248            0   False       15        True  \n",
       "595    1445.628  0.000367            0   False       13        True  "
      ]
     },
     "execution_count": 12,
     "metadata": {},
     "output_type": "execute_result"
    }
   ],
   "source": [
    "Reverse_yeast_hits_only.head()"
   ]
  },
  {
   "cell_type": "code",
   "execution_count": 13,
   "metadata": {},
   "outputs": [
    {
     "data": {
      "text/plain": [
       "<bound method Figure.tight_layout of <Figure size 432x288 with 1 Axes>>"
      ]
     },
     "execution_count": 13,
     "metadata": {},
     "output_type": "execute_result"
    },
    {
     "data": {
      "image/png": "[encoded data removed]",
      "text/plain": [
       "<Figure size 432x288 with 1 Axes>"
      ]
     },
     "metadata": {
      "needs_background": "light"
     },
     "output_type": "display_data"
    }
   ],
   "source": [
    "# All reverse hits seem to be in 0 to -2 region, which is expected.\n",
    "eps=1e-32 # To take care of zeoes\n",
    "fig, ax = plt.subplots()\n",
    "plt.hist(np.log10(eps + Reverse_yeast_hits_only[' E-value']))\n",
    "loc = ticker.MultipleLocator(base=1) # thanks again to google!\n",
    "ax.xaxis.set_major_locator(loc)\n",
    "ax.set_xlabel('Score in E-value')\n",
    "ax.set_ylabel('Counts')\n",
    "ax.set_title('Reverse hits distribution')\n",
    "fig.tight_layout"
   ]
  },
  {
   "cell_type": "code",
   "execution_count": 14,
   "metadata": {},
   "outputs": [],
   "source": [
    "subset_yeast_hits_only = omssa_output[~omssa_output[' IsReverse'].values] # See the tilde sign\n",
    "# Here, we skip the step of filtering the target yeast hits within a FDR (usual norm is to use 1% or these days, even lower at 0.5% FDR)\n",
    "# Instead we use a simple cut-off. Since we know all the reverse hits are less than 1e-2, we use target hits, that are less than e-value of 1e-2\n",
    "Target_yeast_hits_only = subset_yeast_hits_only[subset_yeast_hits_only[' E-value'] < 0.01]"
   ]
  },
  {
   "cell_type": "code",
   "execution_count": 15,
   "metadata": {},
   "outputs": [
    {
     "data": {
      "text/plain": [
       "<bound method Figure.tight_layout of <Figure size 432x288 with 1 Axes>>"
      ]
     },
     "execution_count": 15,
     "metadata": {},
     "output_type": "execute_result"
    },
    {
     "data": {
      "image/png": "[encoded data removed]",
      "text/plain": [
       "<Figure size 432x288 with 1 Axes>"
      ]
     },
     "metadata": {
      "needs_background": "light"
     },
     "output_type": "display_data"
    }
   ],
   "source": [
    "# All reverse hits seem to be in 0 to -2 region, which is expected.\n",
    "eps=1e-32 # To take care of zeoes\n",
    "fig, ax = plt.subplots()\n",
    "plt.hist(np.log10(eps + Target_yeast_hits_only[' E-value']), bins = 100)\n",
    "loc = ticker.MultipleLocator(base=2) # thanks again to google!\n",
    "ax.xaxis.set_major_locator(loc)\n",
    "ax.set_xlabel('Score in E-value')\n",
    "ax.set_ylabel('Counts')\n",
    "ax.set_title('Target hits distribution')\n",
    "fig.tight_layout"
   ]
  },
  {
   "cell_type": "code",
   "execution_count": 16,
   "metadata": {},
   "outputs": [
    {
     "data": {
      "text/html": [
       "<div>\n",
       "<style scoped>\n",
       "    .dataframe tbody tr th:only-of-type {\n",
       "        vertical-align: middle;\n",
       "    }\n",
       "\n",
       "    .dataframe tbody tr th {\n",
       "        vertical-align: top;\n",
       "    }\n",
       "\n",
       "    .dataframe thead th {\n",
       "        text-align: right;\n",
       "    }\n",
       "</style>\n",
       "<table border=\"1\" class=\"dataframe\">\n",
       "  <thead>\n",
       "    <tr style=\"text-align: right;\">\n",
       "      <th></th>\n",
       "      <th>Spectrum number</th>\n",
       "      <th>Filename/id</th>\n",
       "      <th>Peptide</th>\n",
       "      <th>E-value</th>\n",
       "      <th>Mass</th>\n",
       "      <th>gi</th>\n",
       "      <th>Accession</th>\n",
       "      <th>Start</th>\n",
       "      <th>Stop</th>\n",
       "      <th>Defline</th>\n",
       "      <th>Mods</th>\n",
       "      <th>Charge</th>\n",
       "      <th>Theo Mass</th>\n",
       "      <th>P-value</th>\n",
       "      <th>NIST score</th>\n",
       "      <th>IsMod</th>\n",
       "      <th>Length</th>\n",
       "      <th>IsReverse</th>\n",
       "    </tr>\n",
       "  </thead>\n",
       "  <tbody>\n",
       "    <tr>\n",
       "      <th>2</th>\n",
       "      <td>339</td>\n",
       "      <td>index=339</td>\n",
       "      <td>TSGRPIKGDSSAGGK</td>\n",
       "      <td>1.173798e-03</td>\n",
       "      <td>1416.728</td>\n",
       "      <td>0</td>\n",
       "      <td>BL_ORD_ID:2647</td>\n",
       "      <td>176</td>\n",
       "      <td>190</td>\n",
       "      <td>sp|P47075|VTC4_YEAST Vacuolar transporter chap...</td>\n",
       "      <td>NaN</td>\n",
       "      <td>3</td>\n",
       "      <td>1416.731</td>\n",
       "      <td>5.359808e-07</td>\n",
       "      <td>0</td>\n",
       "      <td>False</td>\n",
       "      <td>15</td>\n",
       "      <td>False</td>\n",
       "    </tr>\n",
       "    <tr>\n",
       "      <th>30</th>\n",
       "      <td>549</td>\n",
       "      <td>index=549</td>\n",
       "      <td>SRGESDDSLNR</td>\n",
       "      <td>1.937602e-03</td>\n",
       "      <td>1234.551</td>\n",
       "      <td>0</td>\n",
       "      <td>BL_ORD_ID:877</td>\n",
       "      <td>61</td>\n",
       "      <td>71</td>\n",
       "      <td>sp|Q3E754|RS21B_YEAST 40S ribosomal protein S2...</td>\n",
       "      <td>NaN</td>\n",
       "      <td>2</td>\n",
       "      <td>1234.554</td>\n",
       "      <td>8.562092e-07</td>\n",
       "      <td>0</td>\n",
       "      <td>False</td>\n",
       "      <td>11</td>\n",
       "      <td>False</td>\n",
       "    </tr>\n",
       "    <tr>\n",
       "      <th>31</th>\n",
       "      <td>549</td>\n",
       "      <td>index=549</td>\n",
       "      <td>SRGESDDSLNR</td>\n",
       "      <td>1.937602e-03</td>\n",
       "      <td>1234.551</td>\n",
       "      <td>0</td>\n",
       "      <td>BL_ORD_ID:900</td>\n",
       "      <td>61</td>\n",
       "      <td>71</td>\n",
       "      <td>sp|P0C0V8|RS21A_YEAST 40S ribosomal protein S2...</td>\n",
       "      <td>NaN</td>\n",
       "      <td>2</td>\n",
       "      <td>1234.554</td>\n",
       "      <td>8.562092e-07</td>\n",
       "      <td>0</td>\n",
       "      <td>False</td>\n",
       "      <td>11</td>\n",
       "      <td>False</td>\n",
       "    </tr>\n",
       "    <tr>\n",
       "      <th>33</th>\n",
       "      <td>583</td>\n",
       "      <td>index=583</td>\n",
       "      <td>ANSDCNDKTDCNANNDCSNESDCNAK</td>\n",
       "      <td>9.257848e-04</td>\n",
       "      <td>2992.052</td>\n",
       "      <td>0</td>\n",
       "      <td>BL_ORD_ID:3714</td>\n",
       "      <td>581</td>\n",
       "      <td>606</td>\n",
       "      <td>sp|Q08732|HRK1_YEAST Serine/threonine-protein ...</td>\n",
       "      <td>NaN</td>\n",
       "      <td>3</td>\n",
       "      <td>2992.055</td>\n",
       "      <td>9.848775e-07</td>\n",
       "      <td>0</td>\n",
       "      <td>False</td>\n",
       "      <td>26</td>\n",
       "      <td>False</td>\n",
       "    </tr>\n",
       "    <tr>\n",
       "      <th>35</th>\n",
       "      <td>632</td>\n",
       "      <td>index=632</td>\n",
       "      <td>TKTHDVGDEGGNESTKPK</td>\n",
       "      <td>1.004113e-10</td>\n",
       "      <td>1898.900</td>\n",
       "      <td>0</td>\n",
       "      <td>BL_ORD_ID:6470</td>\n",
       "      <td>645</td>\n",
       "      <td>662</td>\n",
       "      <td>sp|P47116|PTK2_YEAST Serine/threonine-protein ...</td>\n",
       "      <td>NaN</td>\n",
       "      <td>3</td>\n",
       "      <td>1898.898</td>\n",
       "      <td>6.291435e-14</td>\n",
       "      <td>0</td>\n",
       "      <td>False</td>\n",
       "      <td>18</td>\n",
       "      <td>False</td>\n",
       "    </tr>\n",
       "  </tbody>\n",
       "</table>\n",
       "</div>"
      ],
      "text/plain": [
       "    Spectrum number  Filename/id                     Peptide       E-value  \\\n",
       "2               339    index=339             TSGRPIKGDSSAGGK  1.173798e-03   \n",
       "30              549    index=549                 SRGESDDSLNR  1.937602e-03   \n",
       "31              549    index=549                 SRGESDDSLNR  1.937602e-03   \n",
       "33              583    index=583  ANSDCNDKTDCNANNDCSNESDCNAK  9.257848e-04   \n",
       "35              632    index=632          TKTHDVGDEGGNESTKPK  1.004113e-10   \n",
       "\n",
       "        Mass   gi       Accession   Start   Stop  \\\n",
       "2   1416.728    0  BL_ORD_ID:2647     176    190   \n",
       "30  1234.551    0   BL_ORD_ID:877      61     71   \n",
       "31  1234.551    0   BL_ORD_ID:900      61     71   \n",
       "33  2992.052    0  BL_ORD_ID:3714     581    606   \n",
       "35  1898.900    0  BL_ORD_ID:6470     645    662   \n",
       "\n",
       "                                              Defline  Mods   Charge  \\\n",
       "2   sp|P47075|VTC4_YEAST Vacuolar transporter chap...   NaN        3   \n",
       "30  sp|Q3E754|RS21B_YEAST 40S ribosomal protein S2...   NaN        2   \n",
       "31  sp|P0C0V8|RS21A_YEAST 40S ribosomal protein S2...   NaN        2   \n",
       "33  sp|Q08732|HRK1_YEAST Serine/threonine-protein ...   NaN        3   \n",
       "35  sp|P47116|PTK2_YEAST Serine/threonine-protein ...   NaN        3   \n",
       "\n",
       "     Theo Mass       P-value   NIST score   IsMod   Length   IsReverse  \n",
       "2     1416.731  5.359808e-07            0   False       15       False  \n",
       "30    1234.554  8.562092e-07            0   False       11       False  \n",
       "31    1234.554  8.562092e-07            0   False       11       False  \n",
       "33    2992.055  9.848775e-07            0   False       26       False  \n",
       "35    1898.898  6.291435e-14            0   False       18       False  "
      ]
     },
     "execution_count": 16,
     "metadata": {},
     "output_type": "execute_result"
    }
   ],
   "source": [
    "Target_yeast_hits_only.head()"
   ]
  },
  {
   "cell_type": "code",
   "execution_count": 17,
   "metadata": {},
   "outputs": [
    {
     "data": {
      "text/plain": [
       "<bound method Figure.tight_layout of <Figure size 432x288 with 1 Axes>>"
      ]
     },
     "execution_count": 17,
     "metadata": {},
     "output_type": "execute_result"
    },
    {
     "data": {
      "image/png": "[encoded data removed]",
      "text/plain": [
       "<Figure size 432x288 with 1 Axes>"
      ]
     },
     "metadata": {
      "needs_background": "light"
     },
     "output_type": "display_data"
    }
   ],
   "source": [
    "fig, ax = plt.subplots()\n",
    "plt.hist(Target_yeast_hits_only[' Mass'] - Target_yeast_hits_only[' Theo Mass'], bins = 5000)\n",
    "loc = ticker.MultipleLocator(base=0.01) # thanks again to google!\n",
    "ax.xaxis.set_major_locator(loc)\n",
    "ax.set_xlabel('delta Precursor Mass [Da]')\n",
    "ax.set_ylabel('Counts')\n",
    "ax.set_xlim([-0.02, 0.02])\n",
    "ax.set_title(\"Difference of observed and expected peptide mass\")\n",
    "fig.tight_layout"
   ]
  },
  {
   "cell_type": "code",
   "execution_count": 18,
   "metadata": {},
   "outputs": [
    {
     "data": {
      "text/plain": [
       "<bound method Figure.tight_layout of <Figure size 432x288 with 1 Axes>>"
      ]
     },
     "execution_count": 18,
     "metadata": {},
     "output_type": "execute_result"
    },
    {
     "data": {
      "image/png": "[encoded data removed]",
      "text/plain": [
       "<Figure size 432x288 with 1 Axes>"
      ]
     },
     "metadata": {
      "needs_background": "light"
     },
     "output_type": "display_data"
    }
   ],
   "source": [
    "Target_yeast_hits_only[' Length'].astype('category')\n",
    "fig, ax = plt.subplots()\n",
    "plt.hist(Target_yeast_hits_only[' Length'], bins = 100)\n",
    "loc = ticker.MultipleLocator(base=5) # thanks again to google!\n",
    "ax.xaxis.set_major_locator(loc)\n",
    "ax.set_xlabel('Length')\n",
    "ax.set_ylabel('Counts')\n",
    "fig.tight_layout"
   ]
  },
  {
   "cell_type": "code",
   "execution_count": 19,
   "metadata": {},
   "outputs": [
    {
     "data": {
      "text/plain": [
       "<bound method Figure.tight_layout of <Figure size 432x288 with 1 Axes>>"
      ]
     },
     "execution_count": 19,
     "metadata": {},
     "output_type": "execute_result"
    },
    {
     "data": {
      "image/png": "[encoded data removed]",
      "text/plain": [
       "<Figure size 432x288 with 1 Axes>"
      ]
     },
     "metadata": {
      "needs_background": "light"
     },
     "output_type": "display_data"
    }
   ],
   "source": [
    "fig, ax = plt.subplots()\n",
    "plt.hist(Target_yeast_hits_only[' Charge'])\n",
    "loc = ticker.MultipleLocator(base=1) # this locator puts ticks at regular intervals\n",
    "ax.xaxis.set_major_locator(loc)\n",
    "ax.set_xlabel('Charge')\n",
    "ax.set_ylabel('Counts')\n",
    "fig.tight_layout"
   ]
  },
  {
   "cell_type": "code",
   "execution_count": 41,
   "metadata": {},
   "outputs": [],
   "source": [
    "group_by_protein = Target_yeast_hits_only.groupby(' Defline')[' Peptide'].value_counts().sort_values(ascending=False)"
   ]
  },
  {
   "cell_type": "code",
   "execution_count": 43,
   "metadata": {},
   "outputs": [
    {
     "data": {
      "text/plain": [
       " Defline                                                                                                                                   Peptide     \n",
       "sp|P00950|PMG1_YEAST Phosphoglycerate mutase 1 OS=Saccharomyces cerevisiae (strain ATCC 204508 / S288c) OX=559292 GN=GPM1 PE=1 SV=3       HGQSEWNEK        8\n",
       "                                                                                                                                          AGELLKEK         7\n",
       "sp|P17076|RL8A_YEAST 60S ribosomal protein L8-A OS=Saccharomyces cerevisiae (strain ATCC 204508 / S288c) OX=559292 GN=RPL8A PE=1 SV=4     SKQDASPKPYAVK    5\n",
       "sp|P29453|RL8B_YEAST 60S ribosomal protein L8-B OS=Saccharomyces cerevisiae (strain ATCC 204508 / S288c) OX=559292 GN=RPL8B PE=1 SV=3     SKQDASPKPYAVK    5\n",
       "sp|P0C2H7|RL27B_YEAST 60S ribosomal protein L27-B OS=Saccharomyces cerevisiae (strain ATCC 204508 / S288c) OX=559292 GN=RPL27B PE=1 SV=1  KVVIVKPHDEGSK    4\n",
       "Name:  Peptide, dtype: int64"
      ]
     },
     "execution_count": 43,
     "metadata": {},
     "output_type": "execute_result"
    }
   ],
   "source": [
    "group_by_protein.head()\n"
   ]
  },
  {
   "cell_type": "code",
   "execution_count": null,
   "metadata": {},
   "outputs": [],
   "source": []
  }
 ],
 "metadata": {
  "kernelspec": {
   "display_name": "Python 3",
   "language": "python",
   "name": "python3"
  },
  "language_info": {
   "codemirror_mode": {
    "name": "ipython",
    "version": 3
   },
   "file_extension": ".py",
   "mimetype": "text/x-python",
   "name": "python",
   "nbconvert_exporter": "python",
   "pygments_lexer": "ipython3",
   "version": "3.7.2"
  }
 },
 "nbformat": 4,
 "nbformat_minor": 2
}
